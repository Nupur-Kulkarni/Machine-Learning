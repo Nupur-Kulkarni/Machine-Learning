{
 "cells": [
  {
   "cell_type": "markdown",
   "metadata": {},
   "source": [
    "Nupur Kulkarni\n",
    "OK42132\n",
    "nupur1@umbc.edu"
   ]
  },
  {
   "cell_type": "code",
   "execution_count": 1,
   "metadata": {},
   "outputs": [],
   "source": [
    "import pandas as pd\n",
    "import numpy as np"
   ]
  },
  {
   "cell_type": "code",
   "execution_count": 2,
   "metadata": {},
   "outputs": [],
   "source": [
    "data = pd.read_csv('mnist_data.txt',sep=\" \", header=None)"
   ]
  },
  {
   "cell_type": "markdown",
   "metadata": {},
   "source": [
    "MNIST dataset contains images (28 * 28 = 784 pixels) of 10,000 handwritten digits"
   ]
  },
  {
   "cell_type": "code",
   "execution_count": 3,
   "metadata": {
    "scrolled": true
   },
   "outputs": [
    {
     "data": {
      "text/html": [
       "<div>\n",
       "<style scoped>\n",
       "    .dataframe tbody tr th:only-of-type {\n",
       "        vertical-align: middle;\n",
       "    }\n",
       "\n",
       "    .dataframe tbody tr th {\n",
       "        vertical-align: top;\n",
       "    }\n",
       "\n",
       "    .dataframe thead th {\n",
       "        text-align: right;\n",
       "    }\n",
       "</style>\n",
       "<table border=\"1\" class=\"dataframe\">\n",
       "  <thead>\n",
       "    <tr style=\"text-align: right;\">\n",
       "      <th></th>\n",
       "      <th>0</th>\n",
       "      <th>1</th>\n",
       "      <th>2</th>\n",
       "      <th>3</th>\n",
       "      <th>4</th>\n",
       "      <th>5</th>\n",
       "      <th>6</th>\n",
       "      <th>7</th>\n",
       "      <th>8</th>\n",
       "      <th>9</th>\n",
       "      <th>...</th>\n",
       "      <th>774</th>\n",
       "      <th>775</th>\n",
       "      <th>776</th>\n",
       "      <th>777</th>\n",
       "      <th>778</th>\n",
       "      <th>779</th>\n",
       "      <th>780</th>\n",
       "      <th>781</th>\n",
       "      <th>782</th>\n",
       "      <th>783</th>\n",
       "    </tr>\n",
       "  </thead>\n",
       "  <tbody>\n",
       "    <tr>\n",
       "      <th>0</th>\n",
       "      <td>0</td>\n",
       "      <td>0</td>\n",
       "      <td>0</td>\n",
       "      <td>0</td>\n",
       "      <td>0</td>\n",
       "      <td>0</td>\n",
       "      <td>0</td>\n",
       "      <td>0</td>\n",
       "      <td>0</td>\n",
       "      <td>0</td>\n",
       "      <td>...</td>\n",
       "      <td>0</td>\n",
       "      <td>0</td>\n",
       "      <td>0</td>\n",
       "      <td>0</td>\n",
       "      <td>0</td>\n",
       "      <td>0</td>\n",
       "      <td>0</td>\n",
       "      <td>0</td>\n",
       "      <td>0</td>\n",
       "      <td>0</td>\n",
       "    </tr>\n",
       "    <tr>\n",
       "      <th>1</th>\n",
       "      <td>0</td>\n",
       "      <td>0</td>\n",
       "      <td>0</td>\n",
       "      <td>0</td>\n",
       "      <td>0</td>\n",
       "      <td>0</td>\n",
       "      <td>0</td>\n",
       "      <td>0</td>\n",
       "      <td>0</td>\n",
       "      <td>0</td>\n",
       "      <td>...</td>\n",
       "      <td>0</td>\n",
       "      <td>0</td>\n",
       "      <td>0</td>\n",
       "      <td>0</td>\n",
       "      <td>0</td>\n",
       "      <td>0</td>\n",
       "      <td>0</td>\n",
       "      <td>0</td>\n",
       "      <td>0</td>\n",
       "      <td>0</td>\n",
       "    </tr>\n",
       "    <tr>\n",
       "      <th>2</th>\n",
       "      <td>0</td>\n",
       "      <td>0</td>\n",
       "      <td>0</td>\n",
       "      <td>0</td>\n",
       "      <td>0</td>\n",
       "      <td>0</td>\n",
       "      <td>0</td>\n",
       "      <td>0</td>\n",
       "      <td>0</td>\n",
       "      <td>0</td>\n",
       "      <td>...</td>\n",
       "      <td>0</td>\n",
       "      <td>0</td>\n",
       "      <td>0</td>\n",
       "      <td>0</td>\n",
       "      <td>0</td>\n",
       "      <td>0</td>\n",
       "      <td>0</td>\n",
       "      <td>0</td>\n",
       "      <td>0</td>\n",
       "      <td>0</td>\n",
       "    </tr>\n",
       "    <tr>\n",
       "      <th>3</th>\n",
       "      <td>0</td>\n",
       "      <td>0</td>\n",
       "      <td>0</td>\n",
       "      <td>0</td>\n",
       "      <td>0</td>\n",
       "      <td>0</td>\n",
       "      <td>0</td>\n",
       "      <td>0</td>\n",
       "      <td>0</td>\n",
       "      <td>0</td>\n",
       "      <td>...</td>\n",
       "      <td>0</td>\n",
       "      <td>0</td>\n",
       "      <td>0</td>\n",
       "      <td>0</td>\n",
       "      <td>0</td>\n",
       "      <td>0</td>\n",
       "      <td>0</td>\n",
       "      <td>0</td>\n",
       "      <td>0</td>\n",
       "      <td>0</td>\n",
       "    </tr>\n",
       "    <tr>\n",
       "      <th>4</th>\n",
       "      <td>0</td>\n",
       "      <td>0</td>\n",
       "      <td>0</td>\n",
       "      <td>0</td>\n",
       "      <td>0</td>\n",
       "      <td>0</td>\n",
       "      <td>0</td>\n",
       "      <td>0</td>\n",
       "      <td>0</td>\n",
       "      <td>0</td>\n",
       "      <td>...</td>\n",
       "      <td>0</td>\n",
       "      <td>0</td>\n",
       "      <td>0</td>\n",
       "      <td>0</td>\n",
       "      <td>0</td>\n",
       "      <td>0</td>\n",
       "      <td>0</td>\n",
       "      <td>0</td>\n",
       "      <td>0</td>\n",
       "      <td>0</td>\n",
       "    </tr>\n",
       "  </tbody>\n",
       "</table>\n",
       "<p>5 rows × 784 columns</p>\n",
       "</div>"
      ],
      "text/plain": [
       "   0    1    2    3    4    5    6    7    8    9   ...   774  775  776  777  \\\n",
       "0    0    0    0    0    0    0    0    0    0    0 ...     0    0    0    0   \n",
       "1    0    0    0    0    0    0    0    0    0    0 ...     0    0    0    0   \n",
       "2    0    0    0    0    0    0    0    0    0    0 ...     0    0    0    0   \n",
       "3    0    0    0    0    0    0    0    0    0    0 ...     0    0    0    0   \n",
       "4    0    0    0    0    0    0    0    0    0    0 ...     0    0    0    0   \n",
       "\n",
       "   778  779  780  781  782  783  \n",
       "0    0    0    0    0    0    0  \n",
       "1    0    0    0    0    0    0  \n",
       "2    0    0    0    0    0    0  \n",
       "3    0    0    0    0    0    0  \n",
       "4    0    0    0    0    0    0  \n",
       "\n",
       "[5 rows x 784 columns]"
      ]
     },
     "execution_count": 3,
     "metadata": {},
     "output_type": "execute_result"
    }
   ],
   "source": [
    "data.head(5)"
   ]
  },
  {
   "cell_type": "code",
   "execution_count": 4,
   "metadata": {},
   "outputs": [],
   "source": [
    "labels = pd.read_csv('mnist_labels.txt',sep=\" \", header=None)"
   ]
  },
  {
   "cell_type": "markdown",
   "metadata": {},
   "source": [
    "MNIST labels has labels for corresponding images"
   ]
  },
  {
   "cell_type": "code",
   "execution_count": 5,
   "metadata": {
    "scrolled": true
   },
   "outputs": [
    {
     "data": {
      "text/html": [
       "<div>\n",
       "<style scoped>\n",
       "    .dataframe tbody tr th:only-of-type {\n",
       "        vertical-align: middle;\n",
       "    }\n",
       "\n",
       "    .dataframe tbody tr th {\n",
       "        vertical-align: top;\n",
       "    }\n",
       "\n",
       "    .dataframe thead th {\n",
       "        text-align: right;\n",
       "    }\n",
       "</style>\n",
       "<table border=\"1\" class=\"dataframe\">\n",
       "  <thead>\n",
       "    <tr style=\"text-align: right;\">\n",
       "      <th></th>\n",
       "      <th>0</th>\n",
       "    </tr>\n",
       "  </thead>\n",
       "  <tbody>\n",
       "    <tr>\n",
       "      <th>0</th>\n",
       "      <td>7</td>\n",
       "    </tr>\n",
       "    <tr>\n",
       "      <th>1</th>\n",
       "      <td>2</td>\n",
       "    </tr>\n",
       "    <tr>\n",
       "      <th>2</th>\n",
       "      <td>1</td>\n",
       "    </tr>\n",
       "    <tr>\n",
       "      <th>3</th>\n",
       "      <td>0</td>\n",
       "    </tr>\n",
       "    <tr>\n",
       "      <th>4</th>\n",
       "      <td>4</td>\n",
       "    </tr>\n",
       "  </tbody>\n",
       "</table>\n",
       "</div>"
      ],
      "text/plain": [
       "   0\n",
       "0  7\n",
       "1  2\n",
       "2  1\n",
       "3  0\n",
       "4  4"
      ]
     },
     "execution_count": 5,
     "metadata": {},
     "output_type": "execute_result"
    }
   ],
   "source": [
    "labels.head(5)"
   ]
  },
  {
   "cell_type": "code",
   "execution_count": 6,
   "metadata": {},
   "outputs": [
    {
     "data": {
      "text/plain": [
       "0    int64\n",
       "dtype: object"
      ]
     },
     "execution_count": 6,
     "metadata": {},
     "output_type": "execute_result"
    }
   ],
   "source": [
    "labels.dtypes"
   ]
  },
  {
   "cell_type": "code",
   "execution_count": 7,
   "metadata": {},
   "outputs": [
    {
     "data": {
      "text/plain": [
       "pandas.core.series.Series"
      ]
     },
     "execution_count": 7,
     "metadata": {},
     "output_type": "execute_result"
    }
   ],
   "source": [
    "type(labels[0])"
   ]
  },
  {
   "cell_type": "markdown",
   "metadata": {},
   "source": [
    "Check the indices where we have label '8'"
   ]
  },
  {
   "cell_type": "code",
   "execution_count": 8,
   "metadata": {},
   "outputs": [
    {
     "data": {
      "text/html": [
       "<div>\n",
       "<style scoped>\n",
       "    .dataframe tbody tr th:only-of-type {\n",
       "        vertical-align: middle;\n",
       "    }\n",
       "\n",
       "    .dataframe tbody tr th {\n",
       "        vertical-align: top;\n",
       "    }\n",
       "\n",
       "    .dataframe thead th {\n",
       "        text-align: right;\n",
       "    }\n",
       "</style>\n",
       "<table border=\"1\" class=\"dataframe\">\n",
       "  <thead>\n",
       "    <tr style=\"text-align: right;\">\n",
       "      <th></th>\n",
       "      <th>0</th>\n",
       "    </tr>\n",
       "  </thead>\n",
       "  <tbody>\n",
       "    <tr>\n",
       "      <th>61</th>\n",
       "      <td>8</td>\n",
       "    </tr>\n",
       "    <tr>\n",
       "      <th>84</th>\n",
       "      <td>8</td>\n",
       "    </tr>\n",
       "    <tr>\n",
       "      <th>110</th>\n",
       "      <td>8</td>\n",
       "    </tr>\n",
       "    <tr>\n",
       "      <th>128</th>\n",
       "      <td>8</td>\n",
       "    </tr>\n",
       "    <tr>\n",
       "      <th>134</th>\n",
       "      <td>8</td>\n",
       "    </tr>\n",
       "  </tbody>\n",
       "</table>\n",
       "</div>"
      ],
      "text/plain": [
       "     0\n",
       "61   8\n",
       "84   8\n",
       "110  8\n",
       "128  8\n",
       "134  8"
      ]
     },
     "execution_count": 8,
     "metadata": {},
     "output_type": "execute_result"
    }
   ],
   "source": [
    "labels.loc[labels[0]==8].head(5)"
   ]
  },
  {
   "cell_type": "markdown",
   "metadata": {},
   "source": [
    "Now we want our model to predict if the image of handwritten digit belongs to '8' or not.\n",
    "So, we will convert 'labels' dataframe to contain only positive and negative samples i.e '0' or '1'.\n",
    "'1' indicates that image belongs to digit '8' and '0' indicates that image belongs to digits other than '8'."
   ]
  },
  {
   "cell_type": "code",
   "execution_count": 9,
   "metadata": {},
   "outputs": [],
   "source": [
    "labels[0] = labels[0].apply(lambda digit: 1 if(digit==8) else 0)"
   ]
  },
  {
   "cell_type": "code",
   "execution_count": 10,
   "metadata": {},
   "outputs": [
    {
     "data": {
      "text/plain": [
       "0    int64\n",
       "dtype: object"
      ]
     },
     "execution_count": 10,
     "metadata": {},
     "output_type": "execute_result"
    }
   ],
   "source": [
    "labels.dtypes"
   ]
  },
  {
   "cell_type": "code",
   "execution_count": 11,
   "metadata": {},
   "outputs": [
    {
     "data": {
      "text/plain": [
       "pandas.core.frame.DataFrame"
      ]
     },
     "execution_count": 11,
     "metadata": {},
     "output_type": "execute_result"
    }
   ],
   "source": [
    "type(labels)"
   ]
  },
  {
   "cell_type": "markdown",
   "metadata": {},
   "source": [
    "Confirm if we have '1' for data points where label is '8'. \n",
    "We already have indices for data points where label is '8'. So, after label dataframe modfication, we should have same indices for '1'"
   ]
  },
  {
   "cell_type": "code",
   "execution_count": 12,
   "metadata": {},
   "outputs": [
    {
     "data": {
      "text/html": [
       "<div>\n",
       "<style scoped>\n",
       "    .dataframe tbody tr th:only-of-type {\n",
       "        vertical-align: middle;\n",
       "    }\n",
       "\n",
       "    .dataframe tbody tr th {\n",
       "        vertical-align: top;\n",
       "    }\n",
       "\n",
       "    .dataframe thead th {\n",
       "        text-align: right;\n",
       "    }\n",
       "</style>\n",
       "<table border=\"1\" class=\"dataframe\">\n",
       "  <thead>\n",
       "    <tr style=\"text-align: right;\">\n",
       "      <th></th>\n",
       "      <th>0</th>\n",
       "    </tr>\n",
       "  </thead>\n",
       "  <tbody>\n",
       "    <tr>\n",
       "      <th>61</th>\n",
       "      <td>1</td>\n",
       "    </tr>\n",
       "    <tr>\n",
       "      <th>84</th>\n",
       "      <td>1</td>\n",
       "    </tr>\n",
       "    <tr>\n",
       "      <th>110</th>\n",
       "      <td>1</td>\n",
       "    </tr>\n",
       "    <tr>\n",
       "      <th>128</th>\n",
       "      <td>1</td>\n",
       "    </tr>\n",
       "    <tr>\n",
       "      <th>134</th>\n",
       "      <td>1</td>\n",
       "    </tr>\n",
       "  </tbody>\n",
       "</table>\n",
       "</div>"
      ],
      "text/plain": [
       "     0\n",
       "61   1\n",
       "84   1\n",
       "110  1\n",
       "128  1\n",
       "134  1"
      ]
     },
     "execution_count": 12,
     "metadata": {},
     "output_type": "execute_result"
    }
   ],
   "source": [
    "labels.loc[labels[0]==1].head(5)"
   ]
  },
  {
   "cell_type": "markdown",
   "metadata": {},
   "source": [
    "Divide the dataset into training and testing samples"
   ]
  },
  {
   "cell_type": "code",
   "execution_count": 13,
   "metadata": {},
   "outputs": [],
   "source": [
    "train_features = data\n",
    "train_labels = labels\n",
    "test_features = data\n",
    "test_labels = labels"
   ]
  },
  {
   "cell_type": "code",
   "execution_count": 14,
   "metadata": {},
   "outputs": [
    {
     "name": "stdout",
     "output_type": "stream",
     "text": [
      "(10000, 784)\n"
     ]
    }
   ],
   "source": [
    "print (train_features.shape)"
   ]
  },
  {
   "cell_type": "code",
   "execution_count": 15,
   "metadata": {},
   "outputs": [
    {
     "name": "stdout",
     "output_type": "stream",
     "text": [
      "(10000, 784)\n"
     ]
    }
   ],
   "source": [
    "print (test_features.shape)"
   ]
  },
  {
   "cell_type": "markdown",
   "metadata": {},
   "source": [
    "Let's define a sigmoid function which takes scores as input"
   ]
  },
  {
   "cell_type": "code",
   "execution_count": 16,
   "metadata": {},
   "outputs": [],
   "source": [
    "def sigmoid(scores):\n",
    "    return 1 / (1 + np.exp(-scores))"
   ]
  },
  {
   "cell_type": "code",
   "execution_count": 17,
   "metadata": {},
   "outputs": [
    {
     "data": {
      "text/plain": [
       "(10000, 784)"
      ]
     },
     "execution_count": 17,
     "metadata": {},
     "output_type": "execute_result"
    }
   ],
   "source": [
    "train_features.shape"
   ]
  },
  {
   "cell_type": "markdown",
   "metadata": {},
   "source": [
    "If we want to consider w0 i.t weight for constant term then we can add a column of all 1s before our features dataframe\n",
    "intercept = np.ones((features.shape[0], 1))\n",
    "features = np.hstack((intercept, features))"
   ]
  },
  {
   "cell_type": "code",
   "execution_count": 18,
   "metadata": {},
   "outputs": [],
   "source": [
    "def logistic_regression(features, target, no_iterations, learning_rate, lamda):\n",
    "    \n",
    "    print (\"Dimentions of features\",features.shape)  \n",
    "#     Create a numpy array of weights and initialize it to zero\n",
    "#     Weight vecor will have weight corresponding to every predictor variable i.e pixel in this case\n",
    "    w = np.zeros(features.shape[1])\n",
    "    print (\"Dimentions of weight vector\",w.shape)\n",
    "#     We define stopping criteria as fixed no of iterations\n",
    "    for iteration in range(no_iterations):\n",
    "#         Get predicted label using sigmoid function\n",
    "        scores = np.dot(features, w)\n",
    "        pred_label = sigmoid(scores)\n",
    "        error = target - pred_label\n",
    "\n",
    "#         gradient is xij * error\n",
    "        gradient = np.dot(features.T, error)\n",
    "#         Gradient ascent with L2 Regularization\n",
    "        gradient = gradient - (2 * lamda * w)\n",
    "#         Update weights with gradient        \n",
    "        w += learning_rate * gradient        \n",
    "      \n",
    "    return w"
   ]
  },
  {
   "cell_type": "markdown",
   "metadata": {},
   "source": [
    "print (features.T)"
   ]
  },
  {
   "cell_type": "code",
   "execution_count": 19,
   "metadata": {
    "scrolled": false
   },
   "outputs": [
    {
     "name": "stdout",
     "output_type": "stream",
     "text": [
      "Dimentions of features (10000, 784)\n",
      "Dimentions of weight vector (784,)\n"
     ]
    }
   ],
   "source": [
    "w = logistic_regression(train_features, train_labels[0].T,\n",
    "                     no_iterations = 50, learning_rate = 0.0001, lamda = 0.0001)\n"
   ]
  },
  {
   "cell_type": "code",
   "execution_count": 20,
   "metadata": {},
   "outputs": [
    {
     "name": "stdout",
     "output_type": "stream",
     "text": [
      "[ 0.00000000e+00  0.00000000e+00  0.00000000e+00  0.00000000e+00\n",
      "  0.00000000e+00  0.00000000e+00  0.00000000e+00  0.00000000e+00\n",
      "  0.00000000e+00  0.00000000e+00  0.00000000e+00  0.00000000e+00\n",
      "  0.00000000e+00  0.00000000e+00  0.00000000e+00  0.00000000e+00\n",
      "  0.00000000e+00  0.00000000e+00  0.00000000e+00  0.00000000e+00\n",
      "  0.00000000e+00  0.00000000e+00  0.00000000e+00  0.00000000e+00\n",
      "  0.00000000e+00  0.00000000e+00  0.00000000e+00  0.00000000e+00\n",
      "  0.00000000e+00  0.00000000e+00  0.00000000e+00  0.00000000e+00\n",
      "  0.00000000e+00 -1.89999814e-03 -1.17999884e-02 -7.89999226e-03\n",
      " -2.01499803e-02 -3.61499658e-02 -7.78499268e-02 -1.72949852e-01\n",
      " -7.13899597e-01 -3.11199656e-01 -3.80248958e-01 -3.23648986e-01\n",
      " -5.17499513e-02 -2.11449878e-01 -4.65999782e-01 -2.50999754e-02\n",
      " -9.59999059e-03  0.00000000e+00  0.00000000e+00  0.00000000e+00\n",
      "  0.00000000e+00  0.00000000e+00  0.00000000e+00  0.00000000e+00\n",
      "  0.00000000e+00  0.00000000e+00  0.00000000e+00  0.00000000e+00\n",
      "  0.00000000e+00 -2.18499786e-02 -5.57499454e-02 -7.26499288e-02\n",
      " -2.07649831e-01 -7.39499488e-01 -1.12189900e+00 -2.40919806e+00\n",
      " -4.08049710e+00 -4.09409653e+00 -4.71044505e+00 -5.07459574e+00\n",
      " -4.25344654e+00 -3.76299718e+00 -2.82729799e+00 -1.31489885e+00\n",
      " -7.33949308e-01 -3.36649683e-01 -1.74749836e-01 -3.97499611e-02\n",
      " -2.49999755e-04  0.00000000e+00  0.00000000e+00  0.00000000e+00\n",
      "  0.00000000e+00  0.00000000e+00  0.00000000e+00  0.00000000e+00\n",
      " -1.66999844e-02 -5.82999455e-02 -5.40649661e-01 -1.19514925e+00\n",
      " -1.30294891e+00 -2.79119778e+00 -4.49469616e+00 -7.48844386e+00\n",
      " -1.23974960e+01 -1.52690719e+01 -1.73469703e+01 -2.02875131e+01\n",
      " -2.03673362e+01 -1.72119883e+01 -1.54028900e+01 -1.03132431e+01\n",
      " -4.39274676e+00 -1.35279870e+00 -9.85499105e-01 -3.96849633e-01\n",
      " -1.23899885e-01 -6.18499441e-02 -2.44499780e-02  0.00000000e+00\n",
      "  0.00000000e+00  0.00000000e+00  0.00000000e+00 -1.12999892e-02\n",
      " -1.15749894e-01 -1.98949809e-01 -1.91869870e+00 -4.90954663e+00\n",
      " -1.00785432e+01 -1.65499384e+01 -2.06768397e+01 -2.53462963e+01\n",
      " -2.79700528e+01 -2.79798821e+01 -2.63469613e+01 -3.04878886e+01\n",
      " -3.06312412e+01 -3.18571785e+01 -3.28532432e+01 -3.00125920e+01\n",
      " -2.48113449e+01 -1.57128412e+01 -1.12789434e+01 -6.39689641e+00\n",
      " -2.48539860e+00 -2.28149906e-01  2.95499797e-01  0.00000000e+00\n",
      "  0.00000000e+00 -1.19999882e-03 -6.99999314e-04 -1.21049922e-01\n",
      " -7.02249418e-01 -2.55159823e+00 -5.04883432e+00 -8.59073328e+00\n",
      " -1.60750054e+01 -2.16891746e+01 -2.20350082e+01 -2.29493955e+01\n",
      " -1.09531573e+01  2.68673103e+00  3.07596747e+00  1.65064878e+01\n",
      "  2.67315023e+01  2.02961907e+01 -1.42137874e+00 -1.85083975e+01\n",
      " -3.01975076e+01 -2.70696074e+01 -2.58199630e+01 -1.38851805e+01\n",
      " -4.74838938e+00  3.89049664e-01  1.11774933e+00  0.00000000e+00\n",
      "  0.00000000e+00  0.00000000e+00 -4.54999585e-03 -9.89749394e-01\n",
      " -3.21644788e+00 -6.28254575e+00 -8.04941419e+00 -1.11000776e+01\n",
      " -1.53144397e+01 -1.75594267e+01 -1.40886092e+01 -6.61411351e+00\n",
      "  5.33298400e+00  6.40279065e+00  1.12367783e+01  1.57414941e+01\n",
      "  1.80288369e+01  1.14802412e+01 -1.08526882e+01 -2.14025850e+01\n",
      " -2.59999541e+01 -2.02141437e+01 -1.64782337e+01 -1.39541066e+01\n",
      " -7.67198770e+00  1.09429911e+00  1.04609933e+00  9.86149502e-01\n",
      "  0.00000000e+00 -7.64999250e-03 -1.06049905e-01 -1.66649893e+00\n",
      " -5.31684642e+00 -6.87184475e+00 -4.53251845e+00 -5.99810840e+00\n",
      " -5.39096873e+00  7.89662703e-01  4.35031773e+00 -2.53881494e+00\n",
      " -3.12800774e-01 -4.96001848e-01 -1.65270089e+00 -1.11891029e+01\n",
      " -1.97693411e+01 -3.06727870e+01 -3.25245629e+01 -2.12200575e+01\n",
      " -3.15848529e+00  1.12495441e+01  6.09875787e+00 -2.67519302e+00\n",
      " -3.91664870e+00  1.09599879e+00  1.17504921e+00  1.07234947e+00\n",
      "  0.00000000e+00 -4.00999616e-02 -2.31549780e-01 -2.78279836e+00\n",
      " -4.90179655e+00 -2.41529659e+00  1.13329355e+00  9.64000255e+00\n",
      "  1.51790523e+01  2.13886727e+01  2.00879941e+01  1.29510148e+01\n",
      "  5.70815695e-01 -1.69028565e+01 -3.80790969e+01 -4.29542101e+01\n",
      " -5.11816137e+01 -5.02561741e+01 -3.14822949e+01 -5.43973193e+00\n",
      "  2.47580868e+01  2.91762757e+01  2.22331100e+01  1.25056304e+01\n",
      "  6.27944458e+00  4.03394673e+00 -2.34209918e+00 -3.19599858e-01\n",
      " -2.19499802e-02 -1.01699903e-01 -3.26299690e-01 -9.22499150e-01\n",
      " -1.62654828e+00  3.89700002e+00  1.09028240e+01  2.27625494e+01\n",
      "  3.70585719e+01  4.14726489e+01  3.50859207e+01  2.36622436e+01\n",
      "  4.76569516e+00 -3.02358683e+01 -5.64975153e+01 -7.13639832e+01\n",
      " -7.08938564e+01 -3.98176851e+01 -2.14834637e+01  5.40896433e+00\n",
      "  3.28803225e+01  4.19066822e+01  3.18295145e+01  2.53558837e+01\n",
      "  1.43859902e+01  3.57394675e+00  7.34899237e-01  1.00679945e+00\n",
      " -3.67499667e-02 -8.14999229e-02 -3.03349711e-01  8.43349875e-01\n",
      "  6.57450399e-01  8.22644747e+00  1.73357945e+01  3.14296544e+01\n",
      "  4.17055960e+01  4.90437052e+01  4.22464684e+01  4.18066466e+01\n",
      "  1.88804505e+01 -3.51534737e+01 -5.78540353e+01 -7.08258193e+01\n",
      " -4.71081812e+01 -2.44970919e+01 -1.09832567e+00  1.71458805e+01\n",
      "  3.80125408e+01  5.82844710e+01  4.43352926e+01  3.01002347e+01\n",
      "  1.28144419e+01  5.10989639e+00  1.62964879e+00  9.35499472e-01\n",
      " -5.69999487e-03 -3.62499651e-02 -2.09099799e-01  5.43199909e-01\n",
      "  1.61400345e-01  4.24079949e+00  1.00342485e+01  1.87189784e+01\n",
      "  2.26694919e+01  2.73832522e+01  4.07144722e+01  4.67356811e+01\n",
      "  3.98625036e+01 -1.55456162e-01 -3.36916867e+01 -3.35792254e+01\n",
      " -1.04062052e+01 -3.14512145e+00  1.73038028e+01  3.52169108e+01\n",
      "  5.53398902e+01  5.29537837e+01  4.27898980e+01  2.13655587e+01\n",
      "  1.05080943e+01  3.35189771e+00  3.69799473e-01  5.55499704e-01\n",
      "  0.00000000e+00 -2.21499783e-02 -1.26799878e-01 -3.00998869e-02\n",
      " -1.01744902e+00 -3.13779617e+00 -8.50443303e+00 -6.02587675e+00\n",
      " -7.00527049e+00 -5.44050320e+00  1.12144288e+01  4.79259264e+01\n",
      "  6.63766166e+01  3.94413816e+01  3.57743186e+00  1.01884439e+00\n",
      "  7.66237220e+00  8.78644366e+00  1.64929539e+01  3.57282724e+01\n",
      "  3.71368230e+01  2.90316607e+01  1.54413653e+01  4.64645145e+00\n",
      " -8.89494572e-02  1.68449760e-01 -5.93500526e-02  0.00000000e+00\n",
      "  0.00000000e+00 -9.19999098e-03  7.17499744e-02 -5.84499662e-01\n",
      " -2.46409817e+00 -1.09358810e+01 -2.55819335e+01 -3.44270599e+01\n",
      " -4.49736237e+01 -4.61677315e+01 -2.70442820e+01  3.45295855e+01\n",
      "  8.54485577e+01  5.50937650e+01  1.30952535e+01  1.35566011e+01\n",
      "  4.33493197e-01 -3.77317928e+00 -5.28266835e+00  2.57829615e+00\n",
      "  3.63672231e+00 -4.68525428e+00 -1.02445592e+01 -1.00627919e+01\n",
      " -3.96274693e+00 -7.93749518e-01 -1.31499870e-02  0.00000000e+00\n",
      "  0.00000000e+00  0.00000000e+00 -2.21499893e-01 -2.71849759e-01\n",
      " -3.40919757e+00 -1.70209183e+01 -3.56182308e+01 -5.43474117e+01\n",
      " -7.42430684e+01 -8.12820094e+01 -5.48352437e+01  1.51382899e+01\n",
      "  6.56795634e+01  4.01599225e+01  2.28171445e+01  1.46162278e+01\n",
      " -2.55719321e+00 -3.52523372e+01 -4.59811873e+01 -3.66529392e+01\n",
      " -3.49197008e+01 -3.29969024e+01 -2.78152910e+01 -1.53131662e+01\n",
      " -5.79679566e+00 -2.80949646e-01 -4.20999616e-02  0.00000000e+00\n",
      "  0.00000000e+00  0.00000000e+00 -2.34599882e-01 -2.66299751e-01\n",
      " -4.42064693e+00 -1.77730790e+01 -3.65671496e+01 -5.75304569e+01\n",
      " -7.11878877e+01 -7.15175921e+01 -4.38358378e+01  2.12192351e+01\n",
      "  4.75567369e+01  3.07575164e+01  5.06848087e+00  8.27435772e+00\n",
      " -2.46170938e+00 -4.78413969e+01 -5.99726591e+01 -5.83378302e+01\n",
      " -5.29009569e+01 -4.03014093e+01 -3.10904506e+01 -1.65161496e+01\n",
      " -5.96057323e+00 -6.90649328e-01 -9.04499181e-02 -1.00499910e-02\n",
      "  0.00000000e+00 -2.34999770e-03 -5.87199691e-01 -4.83199556e-01\n",
      " -5.16639632e+00 -1.93844863e+01 -3.52541238e+01 -4.90840929e+01\n",
      " -3.91124320e+01 -2.33756690e+01  1.25562492e+01  4.63962962e+01\n",
      "  4.93652249e+01  2.03393972e+01  3.74412896e-02  5.38921503e+00\n",
      " -8.60156939e+00 -3.44512051e+01 -5.50350986e+01 -5.30372669e+01\n",
      " -5.03977387e+01 -3.58957703e+01 -2.63756005e+01 -1.63689001e+01\n",
      " -6.73160085e+00 -2.52484852e+00 -1.35649883e-01 -4.20999668e-02\n",
      "  0.00000000e+00  0.00000000e+00 -6.03299663e-01 -1.04654911e+00\n",
      " -5.99024534e+00 -2.18766844e+01 -3.42642222e+01 -2.89902594e+01\n",
      "  1.40511535e+00  2.72227443e+01  5.31272159e+01  6.21740890e+01\n",
      "  5.01005652e+01  1.23863976e+01 -8.27851967e+00 -9.43810929e+00\n",
      " -1.97733583e+01 -1.66631301e+01 -2.99613199e+01 -4.14466909e+01\n",
      " -3.75620681e+01 -2.91190238e+01 -2.25985573e+01 -1.55353009e+01\n",
      " -7.34882953e+00 -1.92184885e+00 -2.27449885e-01 -5.17999597e-02\n",
      "  0.00000000e+00 -6.29999383e-03 -6.41449609e-01 -2.55504811e+00\n",
      " -7.61419380e+00 -1.95895645e+01 -3.00177065e+01 -7.56486759e+00\n",
      "  2.46625116e+01  5.17196893e+01  6.11252143e+01  5.63164347e+01\n",
      "  2.29464584e+01 -1.90966593e+01 -2.90645352e+01 -2.10388998e+01\n",
      " -1.50865924e+01 -8.82481670e+00 -1.23071291e+01 -2.74867558e+01\n",
      " -2.90430133e+01 -2.64152262e+01 -2.15135695e+01 -1.68632006e+01\n",
      " -6.47620107e+00 -2.23779863e+00 -8.09699621e-01 -5.55499629e-02\n",
      "  0.00000000e+00 -1.27499875e-02 -5.53399631e-01 -4.53829686e+00\n",
      " -1.08731062e+01 -2.16953628e+01 -2.00420259e+01  1.32015566e+00\n",
      "  2.03748894e+01  3.94744299e+01  4.28345111e+01  2.59949347e+01\n",
      " -1.80340586e+01 -4.08984259e+01 -5.11573795e+01 -3.55134262e+01\n",
      " -1.65100348e+01 -8.22082342e+00 -6.75424690e+00 -1.79516704e+01\n",
      " -3.03516518e+01 -2.96270775e+01 -2.18677708e+01 -1.36031183e+01\n",
      " -5.02369633e+00 -2.47314850e+00 -9.52399554e-01 -1.09999927e-02\n",
      "  0.00000000e+00 -1.79999824e-03 -4.72549605e-01 -6.06449596e+00\n",
      " -1.44651200e+01 -2.18598630e+01 -1.23767220e+01 -5.63947905e+00\n",
      "  6.05859389e-01  1.17528027e+01  1.25543334e+01 -2.26097353e-01\n",
      " -2.67815497e+01 -4.91561203e+01 -5.16222904e+01 -3.79023444e+01\n",
      " -2.65337309e+01 -1.18219833e+01 -1.68827287e+01 -1.53893283e+01\n",
      " -2.18089146e+01 -2.62476075e+01 -1.97116471e+01 -9.05424361e+00\n",
      " -2.47129791e+00 -1.57039898e+00 -4.26499777e-01  0.00000000e+00\n",
      "  0.00000000e+00  0.00000000e+00 -4.71649600e-01 -6.63654586e+00\n",
      " -1.57943698e+01 -2.13845142e+01 -1.91440624e+01 -2.21345240e+01\n",
      " -1.72279158e+01 -1.08397799e+01  3.05512980e-01  1.05135226e+01\n",
      " -3.52388899e+00 -1.90318067e+01 -2.29228163e+01 -1.92516957e+01\n",
      " -1.92176094e+01 -1.05098389e+01 -1.05733331e+01 -1.63157466e+00\n",
      " -4.03965774e+00 -1.56258077e+01 -1.48143822e+01 -5.99514588e+00\n",
      " -1.30674875e+00 -3.79649683e-01 -7.85999293e-02  0.00000000e+00\n",
      "  0.00000000e+00  0.00000000e+00 -1.33099883e-01 -4.41484748e+00\n",
      " -1.24650403e+01 -1.99612671e+01 -2.16832642e+01 -2.89504015e+01\n",
      " -2.47675029e+01 -2.33157015e+01 -2.20714171e+00  2.39954868e+01\n",
      "  4.18954542e+01  4.48468875e+01  2.97747181e+01  1.97017786e+01\n",
      "  3.42617434e+00  7.47924657e+00  1.50939598e+01  1.87911604e+01\n",
      "  4.48722477e+00 -4.07529773e+00 -9.08670018e+00 -2.26969833e+00\n",
      " -1.16309922e+00 -8.31049559e-01 -2.51999773e-02  0.00000000e+00\n",
      "  0.00000000e+00 -1.19999882e-03 -1.78499827e-02 -2.28604883e+00\n",
      " -7.77384579e+00 -1.84781043e+01 -2.18799482e+01 -2.88391381e+01\n",
      " -2.74941308e+01 -1.88631853e+01 -2.56454382e+00  3.03511955e+01\n",
      "  5.25170405e+01  6.06095853e+01  5.92669001e+01  4.43244357e+01\n",
      "  2.93624018e+01  2.74491782e+01  2.29334775e+01  1.58413866e+01\n",
      "  2.78254064e+00 -3.66699313e-01 -2.55784836e+00 -9.79249310e-01\n",
      " -5.16599694e-01 -3.35049816e-01 -1.49999865e-04  0.00000000e+00\n",
      "  0.00000000e+00  0.00000000e+00  0.00000000e+00 -5.30349703e-01\n",
      " -2.18219888e+00 -8.43319571e+00 -1.22630434e+01 -1.34879867e+01\n",
      " -1.87003720e+01 -1.61635727e+01 -4.82689583e+00  1.82144499e+01\n",
      "  2.16973130e+01  2.79819879e+01  2.34350776e+01  1.00525448e+01\n",
      "  1.07196983e+01  9.07162576e+00  3.50609076e+00 -2.20316919e+00\n",
      " -2.47314801e+00 -1.00649911e+00 -1.09359928e+00 -1.59899851e-01\n",
      " -2.44999772e-02 -5.99999460e-04  0.00000000e+00  0.00000000e+00\n",
      "  0.00000000e+00  0.00000000e+00  0.00000000e+00 -5.13999765e-02\n",
      " -2.40849872e-01 -7.92049465e-01 -2.71944830e+00 -9.35354477e+00\n",
      " -1.90507393e+01 -2.21421866e+01 -2.56038843e+01 -2.80450823e+01\n",
      " -3.18148282e+01 -2.54933087e+01 -1.91996560e+01 -1.55894169e+01\n",
      " -1.46476139e+01 -1.20751840e+01 -8.41069380e+00 -5.32499658e+00\n",
      " -1.74784868e+00 -9.46449308e-01 -2.93749741e-01 -8.73999195e-02\n",
      " -1.15199942e-01 -1.01999908e-02  0.00000000e+00  0.00000000e+00\n",
      "  0.00000000e+00  0.00000000e+00  0.00000000e+00  0.00000000e+00\n",
      " -7.04999366e-03 -1.29149868e-01 -6.39497463e-02 -2.01674860e+00\n",
      " -2.64709799e+00 -5.21819618e+00 -6.34094513e+00 -9.24574318e+00\n",
      " -1.05140421e+01 -1.03394420e+01 -9.45324278e+00 -7.22409457e+00\n",
      " -5.83414577e+00 -3.26419737e+00 -1.41084876e+00 -8.01599315e-01\n",
      " -3.95299615e-01 -3.02549722e-01 -1.00949906e-01 -4.93999545e-02\n",
      " -3.54999679e-03  0.00000000e+00  0.00000000e+00  0.00000000e+00\n",
      "  0.00000000e+00  0.00000000e+00  0.00000000e+00  0.00000000e+00\n",
      "  0.00000000e+00  0.00000000e+00 -1.79999832e-03 -3.55499668e-02\n",
      " -6.31999403e-02 -1.27399893e-01 -4.78199743e-01 -3.72849775e-01\n",
      " -2.67649751e-01 -4.15799636e-01 -7.05449546e-01 -4.62099655e-01\n",
      " -2.49699758e-01 -1.58149848e-01 -1.43649866e-01 -5.90399690e-01\n",
      " -1.02799930e-01 -2.99999706e-04  0.00000000e+00  0.00000000e+00\n",
      "  0.00000000e+00  0.00000000e+00  0.00000000e+00  0.00000000e+00]\n"
     ]
    }
   ],
   "source": [
    "print (w)"
   ]
  },
  {
   "cell_type": "markdown",
   "metadata": {},
   "source": [
    "Lets calculate accuracy for our model.\n",
    "First we get predicted label using test data"
   ]
  },
  {
   "cell_type": "code",
   "execution_count": 21,
   "metadata": {},
   "outputs": [],
   "source": [
    "def getPrediction():\n",
    "    scores = np.dot(test_features, w)\n",
    "    pred_label = sigmoid(scores)\n",
    "    #Round off predicted label to 0 or 1\n",
    "    pred = np.round(pred_label)\n",
    "    pred = pred.astype(np.int64)\n",
    "    return pred"
   ]
  },
  {
   "cell_type": "markdown",
   "metadata": {},
   "source": [
    "compare predicted labels with true labels"
   ]
  },
  {
   "cell_type": "code",
   "execution_count": 22,
   "metadata": {
    "scrolled": true
   },
   "outputs": [
    {
     "data": {
      "text/plain": [
       "<matplotlib.image.AxesImage at 0x1f622860320>"
      ]
     },
     "execution_count": 22,
     "metadata": {},
     "output_type": "execute_result"
    },
    {
     "data": {
      "image/png": "[encoded data removed]",
      "text/plain": [
       "<Figure size 432x288 with 1 Axes>"
      ]
     },
     "metadata": {},
     "output_type": "display_data"
    }
   ],
   "source": [
    "%matplotlib inline\n",
    "import matplotlib.pyplot as plt \n",
    "im = w.reshape((28,28),order='F')\n",
    "plt.imshow(im,cmap=\"gray\")"
   ]
  },
  {
   "cell_type": "markdown",
   "metadata": {},
   "source": [
    "As we plot the weight vector as a image, we see an approximate shape of 8. For this classification problem, we see darker region, where weight values are high meaning it is the region where we will have less pixel values for digit 8. The lighter region represents the pixel values for which weight is less i.e this region represents digit 8. This image highly depends on number of iterations, learning rate and lamda value. So, for higher iterations we get a blur image of 8."
   ]
  },
  {
   "cell_type": "code",
   "execution_count": 26,
   "metadata": {},
   "outputs": [
    {
     "name": "stdout",
     "output_type": "stream",
     "text": [
      "0\n",
      "Dimentions of features (10000, 784)\n",
      "Dimentions of weight vector (784,)\n",
      "0.0001\n",
      "Dimentions of features (10000, 784)\n",
      "Dimentions of weight vector (784,)\n",
      "0.00075\n",
      "Dimentions of features (10000, 784)\n",
      "Dimentions of weight vector (784,)\n",
      "0.00085\n",
      "Dimentions of features (10000, 784)\n",
      "Dimentions of weight vector (784,)\n",
      "0.001\n",
      "Dimentions of features (10000, 784)\n",
      "Dimentions of weight vector (784,)\n"
     ]
    },
    {
     "data": {
      "text/plain": [
       "[0.9004, 0.9095, 0.9126, 0.8975, 0.8601]"
      ]
     },
     "execution_count": 26,
     "metadata": {},
     "output_type": "execute_result"
    }
   ],
   "source": [
    "lamda = [0, 0.0001, 0.00075, 0.00085, 0.001]\n",
    "accuracy = []\n",
    "for l in lamda:\n",
    "    print (l)\n",
    "    w = logistic_regression(train_features, train_labels[0].T,\n",
    "                     no_iterations = 500, learning_rate = 0.0001, lamda = l)\n",
    "    pred = getPrediction()\n",
    "    #calculate accuracy by comparing predictions and true values\n",
    "    true = train_labels[0].T\n",
    "    count = 0\n",
    "    for i in range(0,len(pred)):\n",
    "        if pred[i]==true[i]:\n",
    "            count+=1\n",
    "    acc = count/len(pred)\n",
    "    accuracy.append (acc)\n",
    "accuracy"
   ]
  },
  {
   "cell_type": "code",
   "execution_count": 27,
   "metadata": {},
   "outputs": [
    {
     "name": "stdout",
     "output_type": "stream",
     "text": [
      "Training set accuracy = 0.900400 for lamdda = 0\n"
     ]
    }
   ],
   "source": [
    "print (\"Training set accuracy = %f for lamdda = 0\" % (accuracy[0]))"
   ]
  },
  {
   "cell_type": "code",
   "execution_count": 28,
   "metadata": {},
   "outputs": [
    {
     "data": {
      "image/png": "[encoded data removed]",
      "text/plain": [
       "<Figure size 432x288 with 1 Axes>"
      ]
     },
     "metadata": {},
     "output_type": "display_data"
    }
   ],
   "source": [
    "plt.plot(lamda, accuracy)\n",
    "plt.xlabel(\"Lambda\")\n",
    "plt.ylabel(\"Acuuracy\")\n",
    "plt.title(\"Accuracy vs Lambda\")\n",
    "plt.show()"
   ]
  },
  {
   "cell_type": "markdown",
   "metadata": {},
   "source": [
    "As we see above, as the lambda value increases, we try to minimize weight values. So, we get better accuracy initially as we increase lamda because we do not see any overfitting. After a certain point, even if we increase lambda, accuracy starts dropping. So, we should choose the lambda where we get highest accuracy. "
   ]
  }
 ],
 "metadata": {
  "kernelspec": {
   "display_name": "Python 3",
   "language": "python",
   "name": "python3"
  },
  "language_info": {
   "codemirror_mode": {
    "name": "ipython",
    "version": 3
   },
   "file_extension": ".py",
   "mimetype": "text/x-python",
   "name": "python",
   "nbconvert_exporter": "python",
   "pygments_lexer": "ipython3",
   "version": "3.6.5"
  }
 },
 "nbformat": 4,
 "nbformat_minor": 2
}
